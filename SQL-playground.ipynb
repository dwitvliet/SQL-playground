{
 "cells": [
  {
   "cell_type": "markdown",
   "metadata": {},
   "source": [
    "# SQL playground\n",
    "\n",
    "Notebook to play with advanced SQL queries. Topics include:\n",
    "- String manipulation\n",
    "- Variables\n",
    "- Aggregate function\n",
    "- Case statements\n",
    "- Pivot tables\n",
    "- Subqueries (correlated and non-correlated)\n",
    "- Windows\n",
    "- Views\n",
    "- Profiling\n",
    "- Functions and stored procedures"
   ]
  },
  {
   "cell_type": "markdown",
   "metadata": {},
   "source": [
    "## Load database"
   ]
  },
  {
   "cell_type": "code",
   "execution_count": 1,
   "metadata": {},
   "outputs": [],
   "source": [
    "%load_ext sql\n",
    "%sql sqlite:///data/chinook.db"
   ]
  },
  {
   "cell_type": "markdown",
   "metadata": {},
   "source": [
    "![](data/chinook_diagram.png)"
   ]
  },
  {
   "cell_type": "markdown",
   "metadata": {},
   "source": [
    "## String manipulation\n",
    "\n"
   ]
  },
  {
   "cell_type": "markdown",
   "metadata": {},
   "source": []
  },
  {
   "cell_type": "markdown",
   "metadata": {},
   "source": [
    "## Todo"
   ]
  },
  {
   "cell_type": "markdown",
   "metadata": {},
   "source": [
    "- String manipulation\n",
    "- Variables\n",
    "- Aggregate function\n",
    "- Case statements\n",
    "- Pivot tables (https://mode.com/sql-tutorial/sql-pivot-table/)\n",
    "- Subqueries (correlated and non-correlated)\n",
    "- Windows (https://mode.com/sql-tutorial/sql-window-functions/)\n",
    "- Views\n",
    "- Profiling (https://mode.com/sql-tutorial/sql-performance-tuning/?)\n",
    "- Functions and stored procedures\n",
    "- Other? (https://stackoverflow.com/questions/2054130/what-is-advanced-sql)"
   ]
  }
 ],
 "metadata": {
  "kernelspec": {
   "display_name": "Python 3",
   "language": "python",
   "name": "python3"
  },
  "language_info": {
   "codemirror_mode": {
    "name": "ipython",
    "version": 3
   },
   "file_extension": ".py",
   "mimetype": "text/x-python",
   "name": "python",
   "nbconvert_exporter": "python",
   "pygments_lexer": "ipython3",
   "version": "3.6.9"
  }
 },
 "nbformat": 4,
 "nbformat_minor": 4
}
